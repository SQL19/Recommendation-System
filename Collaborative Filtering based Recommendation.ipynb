{
 "cells": [
  {
   "cell_type": "code",
   "execution_count": 1,
   "id": "12d9a80f-9655-40c4-ae78-27f68a1d0e20",
   "metadata": {},
   "outputs": [],
   "source": [
    "import pandas as pd\n",
    "import numpy as np\n",
    "import matplotlib.pyplot as plt\n",
    "from sklearn.metrics import mean_squared_error"
   ]
  },
  {
   "cell_type": "markdown",
   "id": "4a7282bb-c495-4ed4-8e10-c68cd577c3b7",
   "metadata": {},
   "source": [
    "This Notebook implemented a collaborative based movie recommendation system using users' rating dataset."
   ]
  },
  {
   "cell_type": "markdown",
   "id": "ee72cfc6-92be-42c3-ba17-31e0f6c64c2b",
   "metadata": {},
   "source": [
    "#### Load Data"
   ]
  },
  {
   "cell_type": "code",
   "execution_count": 2,
   "id": "bb662d8b-b56b-495d-95a0-d35ca4d1b2fb",
   "metadata": {},
   "outputs": [
    {
     "data": {
      "text/html": [
       "<div>\n",
       "<style scoped>\n",
       "    .dataframe tbody tr th:only-of-type {\n",
       "        vertical-align: middle;\n",
       "    }\n",
       "\n",
       "    .dataframe tbody tr th {\n",
       "        vertical-align: top;\n",
       "    }\n",
       "\n",
       "    .dataframe thead th {\n",
       "        text-align: right;\n",
       "    }\n",
       "</style>\n",
       "<table border=\"1\" class=\"dataframe\">\n",
       "  <thead>\n",
       "    <tr style=\"text-align: right;\">\n",
       "      <th></th>\n",
       "      <th>userId</th>\n",
       "      <th>movieId</th>\n",
       "      <th>rating</th>\n",
       "      <th>timestamp</th>\n",
       "    </tr>\n",
       "  </thead>\n",
       "  <tbody>\n",
       "    <tr>\n",
       "      <th>0</th>\n",
       "      <td>1</td>\n",
       "      <td>31</td>\n",
       "      <td>2.5</td>\n",
       "      <td>1260759144</td>\n",
       "    </tr>\n",
       "    <tr>\n",
       "      <th>1</th>\n",
       "      <td>1</td>\n",
       "      <td>1029</td>\n",
       "      <td>3.0</td>\n",
       "      <td>1260759179</td>\n",
       "    </tr>\n",
       "    <tr>\n",
       "      <th>2</th>\n",
       "      <td>1</td>\n",
       "      <td>1061</td>\n",
       "      <td>3.0</td>\n",
       "      <td>1260759182</td>\n",
       "    </tr>\n",
       "    <tr>\n",
       "      <th>3</th>\n",
       "      <td>1</td>\n",
       "      <td>1129</td>\n",
       "      <td>2.0</td>\n",
       "      <td>1260759185</td>\n",
       "    </tr>\n",
       "    <tr>\n",
       "      <th>4</th>\n",
       "      <td>1</td>\n",
       "      <td>1172</td>\n",
       "      <td>4.0</td>\n",
       "      <td>1260759205</td>\n",
       "    </tr>\n",
       "  </tbody>\n",
       "</table>\n",
       "</div>"
      ],
      "text/plain": [
       "   userId  movieId  rating   timestamp\n",
       "0       1       31     2.5  1260759144\n",
       "1       1     1029     3.0  1260759179\n",
       "2       1     1061     3.0  1260759182\n",
       "3       1     1129     2.0  1260759185\n",
       "4       1     1172     4.0  1260759205"
      ]
     },
     "execution_count": 2,
     "metadata": {},
     "output_type": "execute_result"
    }
   ],
   "source": [
    "ratings = pd.read_csv('data/ratings.csv')\n",
    "ratings.head()"
   ]
  },
  {
   "cell_type": "markdown",
   "id": "fcf15723-61e0-4e23-bd8e-9654fe030844",
   "metadata": {},
   "source": [
    "#### Data Cleaning"
   ]
  },
  {
   "cell_type": "code",
   "execution_count": 3,
   "id": "72929def-0b2b-4c1e-968b-3581072dc6fd",
   "metadata": {},
   "outputs": [],
   "source": [
    "ratings = ratings[['userId','movieId','rating']] # remove timestamp column"
   ]
  },
  {
   "cell_type": "code",
   "execution_count": 4,
   "id": "eb1707a6-e93d-4865-a369-234f7308eec2",
   "metadata": {},
   "outputs": [
    {
     "name": "stdout",
     "output_type": "stream",
     "text": [
      "user count: 427\n"
     ]
    }
   ],
   "source": [
    "# Look for the users who rated more than 50 movies\n",
    "usercount = ratings[['userId','movieId']].groupby(\"userId\").count()\n",
    "usercount = usercount[usercount[\"movieId\"] >= 50]\n",
    "print('user count:', usercount.shape[0])"
   ]
  },
  {
   "cell_type": "code",
   "execution_count": 5,
   "id": "e6783ce0-fa85-492e-9c9e-6e79fcb13ee5",
   "metadata": {},
   "outputs": [
    {
     "name": "stdout",
     "output_type": "stream",
     "text": [
      "movie count: 453\n"
     ]
    }
   ],
   "source": [
    "# Look for the movies reviewed by more than 50 users\n",
    "moviecount = ratings[['userId','movieId']].groupby(\"movieId\").count()\n",
    "moviecount = moviecount[moviecount[\"userId\"] >= 50]\n",
    "print('movie count:', moviecount.shape[0])"
   ]
  },
  {
   "cell_type": "code",
   "execution_count": 6,
   "id": "86bf9651-edcc-416d-a532-811037842cd5",
   "metadata": {},
   "outputs": [],
   "source": [
    "# Keep only the popular movies and active users\n",
    "ratings = ratings[ratings[\"userId\"].isin(usercount.index) & ratings[\"movieId\"].isin(moviecount.index)]\n",
    "#print(ratings)"
   ]
  },
  {
   "cell_type": "markdown",
   "id": "4de86e75-9b24-4e99-963a-17c7c5917bd9",
   "metadata": {},
   "source": [
    "#### Train/Test Split"
   ]
  },
  {
   "cell_type": "markdown",
   "id": "0e5ac92e-d051-4242-95b5-6de6f6fa446f",
   "metadata": {},
   "source": [
    " 20% of each user's ratings will be used for testing, and the remaining will be used for training."
   ]
  },
  {
   "cell_type": "code",
   "execution_count": 7,
   "id": "9c684c3a-3923-4c11-baeb-c0e79de8ec47",
   "metadata": {},
   "outputs": [],
   "source": [
    "# initilize training and testing dataframes\n",
    "df_train, df_test = pd.DataFrame(), pd.DataFrame()"
   ]
  },
  {
   "cell_type": "code",
   "execution_count": 8,
   "id": "1fa2be01-be06-44c8-8a7d-75778514c7db",
   "metadata": {},
   "outputs": [],
   "source": [
    "# loop each user, random select 80% of ratings for traning\n",
    "for user in ratings.userId.unique():\n",
    "    user_df = ratings[ratings['userId']==user].reset_index(drop=True)\n",
    "    user_train = user_df.sample(frac=0.8, random_state=42)\n",
    "    user_test = user_df.loc[~user_df.index.isin(user_train.index)]\n",
    "    \n",
    "    df_train = pd.concat([df_train, user_train])\n",
    "    df_test = pd.concat([df_test, user_test])"
   ]
  },
  {
   "cell_type": "code",
   "execution_count": 9,
   "id": "4ea04fed-87d9-4179-ac3b-684266a5f617",
   "metadata": {},
   "outputs": [
    {
     "name": "stdout",
     "output_type": "stream",
     "text": [
      "(38538, 3) (30824, 3) (7714, 3)\n"
     ]
    }
   ],
   "source": [
    "df_train.reset_index(drop=True)\n",
    "df_test.reset_index(drop=True)\n",
    "print(ratings.shape, df_train.shape, df_test.shape)"
   ]
  },
  {
   "cell_type": "code",
   "execution_count": 10,
   "id": "621d3db8-93f2-49a4-a3a1-4dac752443c1",
   "metadata": {},
   "outputs": [
    {
     "name": "stdout",
     "output_type": "stream",
     "text": [
      "(427, 453)\n"
     ]
    }
   ],
   "source": [
    "# create the rating matrix\n",
    "user_movie_rating = ratings.pivot(index=\"userId\", columns=\"movieId\", values=\"rating\").fillna(0)\n",
    "rating_matrix = user_movie_rating.values\n",
    "print(rating_matrix.shape)"
   ]
  },
  {
   "cell_type": "code",
   "execution_count": 11,
   "id": "3e4625a8-e42e-43a0-b0c4-7edb9cc8b95d",
   "metadata": {},
   "outputs": [
    {
     "data": {
      "text/html": [
       "<div>\n",
       "<style scoped>\n",
       "    .dataframe tbody tr th:only-of-type {\n",
       "        vertical-align: middle;\n",
       "    }\n",
       "\n",
       "    .dataframe tbody tr th {\n",
       "        vertical-align: top;\n",
       "    }\n",
       "\n",
       "    .dataframe thead th {\n",
       "        text-align: right;\n",
       "    }\n",
       "</style>\n",
       "<table border=\"1\" class=\"dataframe\">\n",
       "  <thead>\n",
       "    <tr style=\"text-align: right;\">\n",
       "      <th>movieId</th>\n",
       "      <th>1</th>\n",
       "      <th>2</th>\n",
       "      <th>3</th>\n",
       "      <th>5</th>\n",
       "      <th>6</th>\n",
       "      <th>7</th>\n",
       "      <th>10</th>\n",
       "      <th>11</th>\n",
       "      <th>16</th>\n",
       "      <th>17</th>\n",
       "      <th>...</th>\n",
       "      <th>59315</th>\n",
       "      <th>60069</th>\n",
       "      <th>63082</th>\n",
       "      <th>68157</th>\n",
       "      <th>68358</th>\n",
       "      <th>68954</th>\n",
       "      <th>70286</th>\n",
       "      <th>72998</th>\n",
       "      <th>74458</th>\n",
       "      <th>79132</th>\n",
       "    </tr>\n",
       "    <tr>\n",
       "      <th>userId</th>\n",
       "      <th></th>\n",
       "      <th></th>\n",
       "      <th></th>\n",
       "      <th></th>\n",
       "      <th></th>\n",
       "      <th></th>\n",
       "      <th></th>\n",
       "      <th></th>\n",
       "      <th></th>\n",
       "      <th></th>\n",
       "      <th></th>\n",
       "      <th></th>\n",
       "      <th></th>\n",
       "      <th></th>\n",
       "      <th></th>\n",
       "      <th></th>\n",
       "      <th></th>\n",
       "      <th></th>\n",
       "      <th></th>\n",
       "      <th></th>\n",
       "      <th></th>\n",
       "    </tr>\n",
       "  </thead>\n",
       "  <tbody>\n",
       "    <tr>\n",
       "      <th>2</th>\n",
       "      <td>0.0</td>\n",
       "      <td>0.0</td>\n",
       "      <td>0.0</td>\n",
       "      <td>0.0</td>\n",
       "      <td>0.0</td>\n",
       "      <td>0.0</td>\n",
       "      <td>4.0</td>\n",
       "      <td>0.0</td>\n",
       "      <td>0.0</td>\n",
       "      <td>5.0</td>\n",
       "      <td>...</td>\n",
       "      <td>0.0</td>\n",
       "      <td>0.0</td>\n",
       "      <td>0.0</td>\n",
       "      <td>0.0</td>\n",
       "      <td>0.0</td>\n",
       "      <td>0.0</td>\n",
       "      <td>0.0</td>\n",
       "      <td>0.0</td>\n",
       "      <td>0.0</td>\n",
       "      <td>0.0</td>\n",
       "    </tr>\n",
       "    <tr>\n",
       "      <th>3</th>\n",
       "      <td>0.0</td>\n",
       "      <td>0.0</td>\n",
       "      <td>0.0</td>\n",
       "      <td>0.0</td>\n",
       "      <td>0.0</td>\n",
       "      <td>0.0</td>\n",
       "      <td>0.0</td>\n",
       "      <td>0.0</td>\n",
       "      <td>0.0</td>\n",
       "      <td>0.0</td>\n",
       "      <td>...</td>\n",
       "      <td>0.0</td>\n",
       "      <td>0.0</td>\n",
       "      <td>0.0</td>\n",
       "      <td>0.0</td>\n",
       "      <td>0.0</td>\n",
       "      <td>0.0</td>\n",
       "      <td>0.0</td>\n",
       "      <td>0.0</td>\n",
       "      <td>0.0</td>\n",
       "      <td>0.0</td>\n",
       "    </tr>\n",
       "    <tr>\n",
       "      <th>4</th>\n",
       "      <td>0.0</td>\n",
       "      <td>0.0</td>\n",
       "      <td>0.0</td>\n",
       "      <td>0.0</td>\n",
       "      <td>0.0</td>\n",
       "      <td>0.0</td>\n",
       "      <td>4.0</td>\n",
       "      <td>0.0</td>\n",
       "      <td>0.0</td>\n",
       "      <td>0.0</td>\n",
       "      <td>...</td>\n",
       "      <td>0.0</td>\n",
       "      <td>0.0</td>\n",
       "      <td>0.0</td>\n",
       "      <td>0.0</td>\n",
       "      <td>0.0</td>\n",
       "      <td>0.0</td>\n",
       "      <td>0.0</td>\n",
       "      <td>0.0</td>\n",
       "      <td>0.0</td>\n",
       "      <td>0.0</td>\n",
       "    </tr>\n",
       "    <tr>\n",
       "      <th>5</th>\n",
       "      <td>0.0</td>\n",
       "      <td>0.0</td>\n",
       "      <td>4.0</td>\n",
       "      <td>0.0</td>\n",
       "      <td>0.0</td>\n",
       "      <td>0.0</td>\n",
       "      <td>0.0</td>\n",
       "      <td>0.0</td>\n",
       "      <td>0.0</td>\n",
       "      <td>0.0</td>\n",
       "      <td>...</td>\n",
       "      <td>0.0</td>\n",
       "      <td>0.0</td>\n",
       "      <td>0.0</td>\n",
       "      <td>0.0</td>\n",
       "      <td>0.0</td>\n",
       "      <td>0.0</td>\n",
       "      <td>0.0</td>\n",
       "      <td>0.0</td>\n",
       "      <td>0.0</td>\n",
       "      <td>0.0</td>\n",
       "    </tr>\n",
       "    <tr>\n",
       "      <th>7</th>\n",
       "      <td>3.0</td>\n",
       "      <td>0.0</td>\n",
       "      <td>0.0</td>\n",
       "      <td>0.0</td>\n",
       "      <td>0.0</td>\n",
       "      <td>0.0</td>\n",
       "      <td>3.0</td>\n",
       "      <td>0.0</td>\n",
       "      <td>0.0</td>\n",
       "      <td>0.0</td>\n",
       "      <td>...</td>\n",
       "      <td>0.0</td>\n",
       "      <td>0.0</td>\n",
       "      <td>0.0</td>\n",
       "      <td>0.0</td>\n",
       "      <td>0.0</td>\n",
       "      <td>0.0</td>\n",
       "      <td>0.0</td>\n",
       "      <td>0.0</td>\n",
       "      <td>0.0</td>\n",
       "      <td>0.0</td>\n",
       "    </tr>\n",
       "  </tbody>\n",
       "</table>\n",
       "<p>5 rows × 453 columns</p>\n",
       "</div>"
      ],
      "text/plain": [
       "movieId  1      2      3      5      6      7      10     11     16     17     \\\n",
       "userId                                                                          \n",
       "2          0.0    0.0    0.0    0.0    0.0    0.0    4.0    0.0    0.0    5.0   \n",
       "3          0.0    0.0    0.0    0.0    0.0    0.0    0.0    0.0    0.0    0.0   \n",
       "4          0.0    0.0    0.0    0.0    0.0    0.0    4.0    0.0    0.0    0.0   \n",
       "5          0.0    0.0    4.0    0.0    0.0    0.0    0.0    0.0    0.0    0.0   \n",
       "7          3.0    0.0    0.0    0.0    0.0    0.0    3.0    0.0    0.0    0.0   \n",
       "\n",
       "movieId  ...  59315  60069  63082  68157  68358  68954  70286  72998  74458  \\\n",
       "userId   ...                                                                  \n",
       "2        ...    0.0    0.0    0.0    0.0    0.0    0.0    0.0    0.0    0.0   \n",
       "3        ...    0.0    0.0    0.0    0.0    0.0    0.0    0.0    0.0    0.0   \n",
       "4        ...    0.0    0.0    0.0    0.0    0.0    0.0    0.0    0.0    0.0   \n",
       "5        ...    0.0    0.0    0.0    0.0    0.0    0.0    0.0    0.0    0.0   \n",
       "7        ...    0.0    0.0    0.0    0.0    0.0    0.0    0.0    0.0    0.0   \n",
       "\n",
       "movieId  79132  \n",
       "userId          \n",
       "2          0.0  \n",
       "3          0.0  \n",
       "4          0.0  \n",
       "5          0.0  \n",
       "7          0.0  \n",
       "\n",
       "[5 rows x 453 columns]"
      ]
     },
     "execution_count": 11,
     "metadata": {},
     "output_type": "execute_result"
    }
   ],
   "source": [
    "user_movie_rating.head()"
   ]
  },
  {
   "cell_type": "code",
   "execution_count": 12,
   "id": "b94676a8-b7eb-4995-ba49-6cb50db9d651",
   "metadata": {},
   "outputs": [
    {
     "data": {
      "text/plain": [
       "array([[0., 0., 0., ..., 0., 0., 0.],\n",
       "       [0., 0., 0., ..., 0., 0., 0.],\n",
       "       [0., 0., 0., ..., 0., 0., 0.],\n",
       "       ...,\n",
       "       [0., 3., 3., ..., 0., 0., 0.],\n",
       "       [0., 0., 0., ..., 0., 0., 0.],\n",
       "       [5., 0., 0., ..., 0., 0., 0.]])"
      ]
     },
     "execution_count": 12,
     "metadata": {},
     "output_type": "execute_result"
    }
   ],
   "source": [
    "rating_matrix"
   ]
  },
  {
   "cell_type": "code",
   "execution_count": null,
   "id": "a2cc404d-63fc-46e8-90a7-96f2534bacf5",
   "metadata": {},
   "outputs": [],
   "source": []
  },
  {
   "cell_type": "markdown",
   "id": "54191393-8808-4523-a97d-2beea825be13",
   "metadata": {},
   "source": [
    "#### Collaborative Filtering"
   ]
  },
  {
   "cell_type": "markdown",
   "id": "b468e31a-15af-4316-934b-407115942f5c",
   "metadata": {},
   "source": [
    "Collaborative Filtering (CF) is a type of recommendation technique that uses similarities between users/items to infer the possible level of interest of a user to a item unrated by him. Similarities are computed using existing user ratings for items, no metadata needed.\n",
    "\n",
    "There are two general CF approaches:\n",
    "- User-based, which exploits similarities between users. A rating prediction of an user to an item is computed using the item ratings given by similar users.\n",
    "- Item-based, which exploits similarities between items. A rating prediction of an user to an item is computed using ratings of similar items."
   ]
  },
  {
   "cell_type": "code",
   "execution_count": 13,
   "id": "1e24fa6d-5ced-477e-a736-8e8220797a8d",
   "metadata": {},
   "outputs": [],
   "source": [
    "def similarity_rating_matrix(rating_matrix, similarity_type, eps=1e-9):\n",
    "    # epsilon -> small number for handling dived-by-zero errors\n",
    "    \n",
    "    # if similarity type is user, use rows\n",
    "    if similarity_type == 'user':\n",
    "        similarity_matrix = rating_matrix.dot(rating_matrix.T)\n",
    "    # if similarity type is item, use columns\n",
    "    elif similarity_type == 'item':\n",
    "        similarity_matrix = rating_matrix.T.dot(rating_matrix)\n",
    "    \n",
    "    norms = np.sqrt(similarity_matrix.diagonal()) + eps\n",
    "    return similarity_matrix / (norms[np.newaxis, :] * norms[:, np.newaxis]) # cosine-similarity"
   ]
  },
  {
   "cell_type": "code",
   "execution_count": 14,
   "id": "9742dcd2-f96d-48b2-9cce-0c6a901dedf5",
   "metadata": {},
   "outputs": [],
   "source": [
    "user_similarity_matrix = similarity_rating_matrix(rating_matrix, similarity_type='user')\n",
    "item_similarity_matrix = similarity_rating_matrix(rating_matrix, similarity_type='item')"
   ]
  },
  {
   "cell_type": "code",
   "execution_count": 15,
   "id": "1a7c0cfd-9201-422a-995c-7fb9e3ef4ab2",
   "metadata": {},
   "outputs": [
    {
     "name": "stdout",
     "output_type": "stream",
     "text": [
      "User similarity matrix shape: (427, 427)\n",
      "User similarity matrix sample:\n",
      "[[1.         0.18462176 0.17078823 0.13796451 0.25279235]\n",
      " [0.18462176 1.         0.14054924 0.18888497 0.22341257]\n",
      " [0.17078823 0.14054924 1.         0.20156541 0.44588482]\n",
      " [0.13796451 0.18888497 0.20156541 1.         0.13135761]\n",
      " [0.25279235 0.22341257 0.44588482 0.13135761 1.        ]]\n",
      "------------------------------------------------------------\n",
      "Item similarity matrix shape: (453, 453)\n",
      "Item similarity matrix sample:\n",
      "[[1.         0.43540041 0.28118069 0.26292885 0.38861735]\n",
      " [0.43540041 1.         0.25414901 0.30962295 0.24492061]\n",
      " [0.28118069 0.25414901 1.         0.34157135 0.22014279]\n",
      " [0.26292885 0.30962295 0.34157135 1.         0.2361602 ]\n",
      " [0.38861735 0.24492061 0.22014279 0.2361602  1.        ]]\n"
     ]
    }
   ],
   "source": [
    "print(f\"User similarity matrix shape: {user_similarity_matrix.shape}\\nUser similarity matrix sample:\\n{user_similarity_matrix[:5, :5]}\")\n",
    "print(\"-\" * 60)\n",
    "print(f\"Item similarity matrix shape: {item_similarity_matrix.shape}\\nItem similarity matrix sample:\\n{item_similarity_matrix[:5, :5]}\")"
   ]
  },
  {
   "cell_type": "code",
   "execution_count": null,
   "id": "6ac9cf22-1b68-4799-8646-0c33e35b8aa6",
   "metadata": {},
   "outputs": [],
   "source": []
  },
  {
   "cell_type": "markdown",
   "id": "97cc7d96-d0a4-4f35-8125-148ae8a9c0d9",
   "metadata": {},
   "source": [
    "#### Predictions"
   ]
  },
  {
   "cell_type": "markdown",
   "id": "f424e008-d44d-48bc-8d77-6038b6d2bf00",
   "metadata": {},
   "source": [
    "- For user_based approach, taking normalized weighted sum of all ratings of other users to this item.\n",
    "- For item_based approach, taking the normalized weighted sum of all other ratings of this user to the other items."
   ]
  },
  {
   "cell_type": "code",
   "execution_count": 16,
   "id": "a3f43f28-2a01-4452-934d-25c7d41c58bb",
   "metadata": {},
   "outputs": [],
   "source": [
    "def rating_prediction(ratings, similarity_type, eps=1e-9):\n",
    "    user_movie_rating = ratings.pivot(index=\"userId\", columns=\"movieId\", values=\"rating\").fillna(0)\n",
    "    rating_matrix = user_movie_rating.values\n",
    "    similarity_matrix = similarity_rating_matrix(rating_matrix, similarity_type)\n",
    "    if similarity_type == 'user':\n",
    "        predictions = similarity_matrix.dot(rating_matrix) / np.abs(similarity_matrix + eps).sum(axis=0)[:, np.newaxis]\n",
    "    elif similarity_type == 'item':\n",
    "        predictions = rating_matrix.dot(similarity_matrix) / np.abs(similarity_matrix + eps).sum(axis=0)[np.newaxis, :]\n",
    "    return predictions"
   ]
  },
  {
   "cell_type": "code",
   "execution_count": 17,
   "id": "1ea25cd8-0458-4203-9b27-3a7b0393ce90",
   "metadata": {},
   "outputs": [
    {
     "name": "stdout",
     "output_type": "stream",
     "text": [
      "User-based predictions sample:\n",
      "[[1.97209755 1.21996497 0.4045873  0.45427915 1.04410508]\n",
      " [2.05445039 0.84196323 0.25730089 0.31319016 0.79463144]\n",
      " [2.12839014 0.90713218 0.3573541  0.356598   0.8761276 ]\n",
      " [2.20617095 1.00847349 0.40348583 0.43263645 0.82750243]\n",
      " [2.19243885 0.96467562 0.3672821  0.36235499 0.88486951]]\n",
      "------------------------------------------------------------\n",
      "Item-based predictions sample:\n",
      "[[0.46797709 0.63625792 0.59477655 0.58064496 0.52803738]\n",
      " [0.31446943 0.29049206 0.24255443 0.25298521 0.2821184 ]\n",
      " [1.18712592 1.17988761 1.21691211 1.11025686 1.10486582]\n",
      " [0.71557491 0.73170828 0.78769375 0.74403359 0.62131598]\n",
      " [0.58531624 0.58691275 0.60644504 0.52312613 0.53080547]]\n"
     ]
    }
   ],
   "source": [
    "print(\"User-based predictions sample:\")\n",
    "print(rating_prediction(ratings, similarity_type='user')[:5, :5])\n",
    "print(\"-\" * 60)\n",
    "print(\"Item-based predictions sample:\")\n",
    "print(rating_prediction(ratings, similarity_type='item')[:5, :5])"
   ]
  },
  {
   "cell_type": "code",
   "execution_count": null,
   "id": "9f2e2271-0146-409e-b248-734a8411fffa",
   "metadata": {},
   "outputs": [],
   "source": []
  },
  {
   "cell_type": "markdown",
   "id": "cb2e6d78-0239-4224-bddf-c84b0c387cb0",
   "metadata": {},
   "source": [
    "#### Recommendations"
   ]
  },
  {
   "cell_type": "code",
   "execution_count": 18,
   "id": "05cedfb1-584f-4cc8-bd2a-11ef47987ee4",
   "metadata": {},
   "outputs": [],
   "source": [
    "user_based_rating = rating_prediction(ratings, similarity_type='user')\n",
    "item_based_rating = rating_prediction(ratings, similarity_type='item')"
   ]
  },
  {
   "cell_type": "code",
   "execution_count": 19,
   "id": "f81df72b-7555-402f-a45b-45ef636674b9",
   "metadata": {},
   "outputs": [],
   "source": [
    "def top_n_recommendations(ratings, rating_prediction, user_id, n_movies):\n",
    "    user_movie_rating = ratings.pivot(index=\"userId\", columns=\"movieId\", values=\"rating\").fillna(0)\n",
    "    loc = user_movie_rating.index.get_loc(user_id) # get the loc of user id\n",
    "    ratings = rating_prediction[loc] # get the list of ratings of user id\n",
    "    idx = sorted(range(len(ratings)), key=lambda i: ratings[i], reverse=True)[:n_movies] # get the loc of top n ratings\n",
    "    movie_ids = [list(user_movie_rating.columns)[i] for i in idx] # get the movie ids of top n ratings\n",
    "    return movie_ids # here the output is the movie id"
   ]
  },
  {
   "cell_type": "code",
   "execution_count": 20,
   "id": "361598f9-3629-499b-bbb6-684a9e3dc6c6",
   "metadata": {},
   "outputs": [
    {
     "name": "stdout",
     "output_type": "stream",
     "text": [
      "Top 5 movie id recommendations for user id = 15\n",
      "------------------------------------------------------------\n",
      "User-based approach recommendations:\n",
      "[296, 356, 318, 260, 593]\n",
      "------------------------------------------------------------\n",
      "Item-based approach recommendations:\n",
      "[68157, 70286, 2019, 1244, 3949]\n"
     ]
    }
   ],
   "source": [
    "print(\"Top 5 movie id recommendations for user id = 15\")\n",
    "print(\"-\" * 60)\n",
    "print(\"User-based approach recommendations:\")\n",
    "print(top_n_recommendations(ratings, user_based_rating, 15, 5))\n",
    "print(\"-\" * 60)\n",
    "print(\"Item-based approach recommendations:\")\n",
    "print(top_n_recommendations(ratings, item_based_rating, 15, 5))"
   ]
  },
  {
   "cell_type": "code",
   "execution_count": null,
   "id": "85443ae1-75d6-488b-b506-928f6b718ded",
   "metadata": {},
   "outputs": [],
   "source": []
  },
  {
   "cell_type": "markdown",
   "id": "0c335aae-451d-4ecb-a96b-2f9be53caf77",
   "metadata": {},
   "source": [
    "#### Model Evaluation"
   ]
  },
  {
   "cell_type": "markdown",
   "id": "f85fac28-3e7c-4d43-9dcc-7e3eb329ad9b",
   "metadata": {},
   "source": [
    "Here use MSE for model prediction evaluation."
   ]
  },
  {
   "cell_type": "code",
   "execution_count": 21,
   "id": "b5763679-4e5f-4248-abd1-11d79bbf8161",
   "metadata": {},
   "outputs": [],
   "source": [
    "def prediction_df(rating_matrix, prediction_matrix, dataframe):\n",
    "    preds = []\n",
    "    for row_id, user_id, movie_id, _ in dataframe.itertuples():\n",
    "        r_loc = rating_matrix.index.get_loc(user_id) # get the row number in prediction matrix\n",
    "        c_loc = list(rating_matrix.columns).index(movie_id) # get the col number in prediction matrix\n",
    "        preds.append(prediction_matrix[r_loc, c_loc]) # get the predict rating\n",
    "    df_preds = pd.DataFrame(data={\"user_id\": dataframe.userId, \"movie_id\": dataframe.movieId, \"rating\": preds})\n",
    "    return df_preds"
   ]
  },
  {
   "cell_type": "code",
   "execution_count": 22,
   "id": "df8bd90b-5660-494a-ab18-cca092b103bc",
   "metadata": {},
   "outputs": [],
   "source": [
    "user_based_train_preds = prediction_df(user_movie_rating, user_based_rating, df_train)\n",
    "user_based_test_preds = prediction_df(user_movie_rating, user_based_rating, df_test)\n",
    "item_based_train_preds = prediction_df(user_movie_rating, item_based_rating, df_train)\n",
    "item_based_test_preds = prediction_df(user_movie_rating, item_based_rating, df_test)"
   ]
  },
  {
   "cell_type": "code",
   "execution_count": 23,
   "id": "28d41715-a472-4c08-8c0d-f9cdf9e00a64",
   "metadata": {},
   "outputs": [],
   "source": [
    "user_based_train_mse = mean_squared_error(df_train.rating, user_based_train_preds.rating)\n",
    "user_based_test_mse = mean_squared_error(df_test.rating, user_based_test_preds.rating)\n",
    "item_based_train_mse = mean_squared_error(df_train.rating, item_based_train_preds.rating)\n",
    "item_based_test_mse = mean_squared_error(df_test.rating, item_based_test_preds.rating)"
   ]
  },
  {
   "cell_type": "code",
   "execution_count": 24,
   "id": "592ff04a-2895-4202-bbc2-76dfd47afb44",
   "metadata": {},
   "outputs": [
    {
     "name": "stdout",
     "output_type": "stream",
     "text": [
      "User-based train MSE: 7.134469959470162 -- User-based test MSE: 7.389303345099254\n",
      "--------------------------------------------------------------------------------\n",
      "Item-based train MSE: 7.212942319730497 -- Item-based test MSE: 7.28419607599301\n"
     ]
    }
   ],
   "source": [
    "print(f\"User-based train MSE: {user_based_train_mse} -- User-based test MSE: {user_based_test_mse}\")\n",
    "print(\"-\" * 80)\n",
    "print(f\"Item-based train MSE: {item_based_train_mse} -- Item-based test MSE: {item_based_test_mse}\")"
   ]
  },
  {
   "cell_type": "code",
   "execution_count": null,
   "id": "9c0cae18-5e11-4dfe-a92f-e5c58f42b2b5",
   "metadata": {},
   "outputs": [],
   "source": []
  }
 ],
 "metadata": {
  "kernelspec": {
   "display_name": "Python 3 (ipykernel)",
   "language": "python",
   "name": "python3"
  },
  "language_info": {
   "codemirror_mode": {
    "name": "ipython",
    "version": 3
   },
   "file_extension": ".py",
   "mimetype": "text/x-python",
   "name": "python",
   "nbconvert_exporter": "python",
   "pygments_lexer": "ipython3",
   "version": "3.9.7"
  }
 },
 "nbformat": 4,
 "nbformat_minor": 5
}
